{
 "cells": [
  {
   "cell_type": "code",
   "execution_count": 1,
   "metadata": {},
   "outputs": [],
   "source": [
    "import numpy as np\n",
    "import pandas as pd\n",
    "import matplotlib.pyplot as plt\n",
    "%matplotlib inline"
   ]
  },
  {
   "cell_type": "code",
   "execution_count": 2,
   "metadata": {},
   "outputs": [],
   "source": [
    "PATH = 'data/'"
   ]
  },
  {
   "cell_type": "code",
   "execution_count": 3,
   "metadata": {},
   "outputs": [],
   "source": [
    "products = pd.read_csv(f'{PATH}amazon_baby.csv',low_memory=False)"
   ]
  },
  {
   "cell_type": "code",
   "execution_count": 4,
   "metadata": {},
   "outputs": [],
   "source": [
    "products = products.fillna({'review':''})"
   ]
  },
  {
   "cell_type": "code",
   "execution_count": 5,
   "metadata": {},
   "outputs": [],
   "source": [
    "def remove_punctuation(text):\n",
    "    import string\n",
    "    return text.translate(str.maketrans('', '', string.punctuation)) \n",
    "\n",
    "products['review_clean'] = products['review'].apply(remove_punctuation)"
   ]
  },
  {
   "cell_type": "code",
   "execution_count": 6,
   "metadata": {},
   "outputs": [],
   "source": [
    "products = products[products['rating'] != 3]"
   ]
  },
  {
   "cell_type": "code",
   "execution_count": 7,
   "metadata": {},
   "outputs": [],
   "source": [
    "products['sentiment'] = products['rating'].apply(lambda rating: +1 if rating > 3 else -1)"
   ]
  },
  {
   "cell_type": "code",
   "execution_count": 8,
   "metadata": {},
   "outputs": [],
   "source": [
    "import json\n",
    "f = open(f'{PATH}module-9-assignment-train-idx.json',)\n",
    "train_ids = json.load(f)\n",
    "f = open(f'{PATH}module-9-assignment-test-idx.json',)\n",
    "test_ids = json.load(f)\n",
    "f.close()"
   ]
  },
  {
   "cell_type": "code",
   "execution_count": 9,
   "metadata": {},
   "outputs": [],
   "source": [
    "train_data = products.iloc[train_ids]\n",
    "test_data = products.iloc[test_ids]"
   ]
  },
  {
   "cell_type": "code",
   "execution_count": 10,
   "metadata": {},
   "outputs": [],
   "source": [
    "from sklearn.feature_extraction.text import CountVectorizer\n",
    "\n",
    "vectorizer = CountVectorizer(token_pattern=r'\\b\\w+\\b')\n",
    "     # Use this token pattern to keep single-letter words\n",
    "# First, learn vocabulary from the training data and assign columns to words\n",
    "# Then convert the training data into a sparse matrix\n",
    "train_matrix = vectorizer.fit_transform(train_data['review_clean'])\n",
    "# Second, convert the test data into a sparse matrix, using the same word-column mapping\n",
    "test_matrix = vectorizer.transform(test_data['review_clean'])"
   ]
  },
  {
   "cell_type": "code",
   "execution_count": 11,
   "metadata": {},
   "outputs": [],
   "source": [
    "from sklearn.linear_model import LogisticRegression"
   ]
  },
  {
   "cell_type": "code",
   "execution_count": 12,
   "metadata": {},
   "outputs": [],
   "source": [
    "model = LogisticRegression(max_iter=10000).fit(train_matrix, train_data['sentiment'])"
   ]
  },
  {
   "cell_type": "code",
   "execution_count": 13,
   "metadata": {},
   "outputs": [
    {
     "name": "stdout",
     "output_type": "stream",
     "text": [
      "Test Accuracy: 0.9322954163666907\n"
     ]
    }
   ],
   "source": [
    "from sklearn.metrics import accuracy_score\n",
    "accuracy = accuracy_score(y_true=test_data['sentiment'].to_numpy(), y_pred=model.predict(test_matrix))\n",
    "print(\"Test Accuracy: %s\" % accuracy)"
   ]
  },
  {
   "cell_type": "code",
   "execution_count": 14,
   "metadata": {},
   "outputs": [
    {
     "name": "stdout",
     "output_type": "stream",
     "text": [
      "Baseline accuracy (majority class classifier): 0.8427825773938085\n"
     ]
    }
   ],
   "source": [
    "baseline = len(test_data[test_data['sentiment'] == 1])/len(test_data)\n",
    "print(\"Baseline accuracy (majority class classifier): %s\" % baseline)"
   ]
  },
  {
   "cell_type": "markdown",
   "metadata": {},
   "source": [
    "### Using accuracy as the evaluation metric, our logistic regression model is better than the baseline (majority class classifier)"
   ]
  },
  {
   "cell_type": "code",
   "execution_count": 15,
   "metadata": {},
   "outputs": [
    {
     "name": "stdout",
     "output_type": "stream",
     "text": [
      " target_label | predicted_label | count \n",
      "--------------+-----------------+-------\n",
      "     -1       |       -1        |  3788\n",
      "     -1       |        1        |  1453\n",
      "      1       |       -1        |   804\n",
      "      1       |        1        | 27291\n"
     ]
    }
   ],
   "source": [
    "from sklearn.metrics import confusion_matrix\n",
    "cmat = confusion_matrix(y_true=test_data['sentiment'].to_numpy(),\n",
    "                        y_pred=model.predict(test_matrix),\n",
    "                        labels=model.classes_)    # use the same order of class as the LR model.\n",
    "print(' target_label | predicted_label | count ')\n",
    "print ('--------------+-----------------+-------')\n",
    "# Print out the confusion matrix.\n",
    "# NOTE: Your tool may arrange entries in a different order. Consult appropriate manuals.\n",
    "for i, target_label in enumerate(model.classes_):\n",
    "    for j, predicted_label in enumerate(model.classes_):\n",
    "        print('{0:^13} | {1:^15} | {2:5d}'.format(target_label, predicted_label, cmat[i,j]))"
   ]
  },
  {
   "cell_type": "markdown",
   "metadata": {},
   "source": [
    "### 1453 predicted values in the test set are false positives."
   ]
  },
  {
   "cell_type": "code",
   "execution_count": 16,
   "metadata": {},
   "outputs": [
    {
     "data": {
      "text/plain": [
       "146104"
      ]
     },
     "execution_count": 16,
     "metadata": {},
     "output_type": "execute_result"
    }
   ],
   "source": [
    "1453*100+804*1"
   ]
  },
  {
   "cell_type": "markdown",
   "metadata": {},
   "source": [
    "### Given the stipluation of a manufacturer selling baby products on amazon, the cost associated with the logistic regression classifier's performance on the test set is $146,104"
   ]
  },
  {
   "cell_type": "code",
   "execution_count": 17,
   "metadata": {},
   "outputs": [
    {
     "name": "stdout",
     "output_type": "stream",
     "text": [
      "Precision on test data: 0.9494503200667965\n"
     ]
    }
   ],
   "source": [
    "from sklearn.metrics import precision_score\n",
    "precision = precision_score(y_true=test_data['sentiment'].to_numpy(), \n",
    "                            y_pred=model.predict(test_matrix))\n",
    "print(\"Precision on test data: %s\" % precision)"
   ]
  },
  {
   "cell_type": "markdown",
   "metadata": {},
   "source": [
    "### Out of all reviews in the test set that are predicted to be positive, a fraction of 0.05 of them are false positives."
   ]
  },
  {
   "cell_type": "markdown",
   "metadata": {},
   "source": [
    "### If we wanted to reduce the perecentage of false positives, we could make our logistic regression model more pessimistic by increasing the threshold probability over which datapoints are predicted to be positive."
   ]
  },
  {
   "cell_type": "code",
   "execution_count": 18,
   "metadata": {},
   "outputs": [
    {
     "name": "stdout",
     "output_type": "stream",
     "text": [
      "Recall on test data: 0.9713828083288841\n"
     ]
    }
   ],
   "source": [
    "from sklearn.metrics import recall_score\n",
    "recall = recall_score(y_true=test_data['sentiment'].to_numpy(),\n",
    "                      y_pred=model.predict(test_matrix))\n",
    "print(\"Recall on test data: %s\" % recall)"
   ]
  },
  {
   "cell_type": "markdown",
   "metadata": {},
   "source": [
    "### A fraction of 0.97 of the positive reviews in the test set were correctly predicted as positive by the classifier."
   ]
  },
  {
   "cell_type": "markdown",
   "metadata": {},
   "source": [
    "### The recall value of a classifier that predicts +1 for all the datapoints in the test data is 1."
   ]
  },
  {
   "cell_type": "code",
   "execution_count": 19,
   "metadata": {},
   "outputs": [],
   "source": [
    "def apply_threshold(probabilities,threshold):\n",
    "    return probabilities.apply(lambda probability: +1 if probability > threshold else -1)"
   ]
  },
  {
   "cell_type": "code",
   "execution_count": 20,
   "metadata": {},
   "outputs": [],
   "source": [
    "probabilities = model.predict_proba(test_matrix)[:,1]"
   ]
  },
  {
   "cell_type": "code",
   "execution_count": 21,
   "metadata": {},
   "outputs": [
    {
     "data": {
      "text/plain": [
       "28744"
      ]
     },
     "execution_count": 21,
     "metadata": {},
     "output_type": "execute_result"
    }
   ],
   "source": [
    "(apply_threshold(pd.Series(probabilities),0.5) == 1).sum()"
   ]
  },
  {
   "cell_type": "code",
   "execution_count": 22,
   "metadata": {},
   "outputs": [
    {
     "data": {
      "text/plain": [
       "25068"
      ]
     },
     "execution_count": 22,
     "metadata": {},
     "output_type": "execute_result"
    }
   ],
   "source": [
    "(apply_threshold(pd.Series(probabilities),0.9) == 1).sum()"
   ]
  },
  {
   "cell_type": "code",
   "execution_count": 23,
   "metadata": {},
   "outputs": [
    {
     "data": {
      "text/plain": [
       "3676"
      ]
     },
     "execution_count": 23,
     "metadata": {},
     "output_type": "execute_result"
    }
   ],
   "source": [
    "28744-25068"
   ]
  },
  {
   "cell_type": "markdown",
   "metadata": {},
   "source": [
    "### No of positive predicted reviews decreases by 3676 as threshold increases from 0.5 to 0.9"
   ]
  },
  {
   "cell_type": "markdown",
   "metadata": {},
   "source": [
    "### True labels"
   ]
  },
  {
   "cell_type": "code",
   "execution_count": 24,
   "metadata": {},
   "outputs": [],
   "source": [
    "true_labels = test_data['sentiment']"
   ]
  },
  {
   "cell_type": "code",
   "execution_count": 25,
   "metadata": {},
   "outputs": [
    {
     "data": {
      "text/plain": [
       "9         1\n",
       "10        1\n",
       "16        1\n",
       "20        1\n",
       "28        1\n",
       "         ..\n",
       "183507    1\n",
       "183515    1\n",
       "183522    1\n",
       "183524    1\n",
       "183530    1\n",
       "Name: sentiment, Length: 33336, dtype: int64"
      ]
     },
     "execution_count": 25,
     "metadata": {},
     "output_type": "execute_result"
    }
   ],
   "source": [
    "true_labels"
   ]
  },
  {
   "cell_type": "markdown",
   "metadata": {},
   "source": [
    "### Predicted labels"
   ]
  },
  {
   "cell_type": "code",
   "execution_count": 26,
   "metadata": {},
   "outputs": [],
   "source": [
    "predicted_labels_high_threshold = (apply_threshold(pd.Series(probabilities,index=true_labels.index),0.9))"
   ]
  },
  {
   "cell_type": "code",
   "execution_count": 27,
   "metadata": {},
   "outputs": [
    {
     "data": {
      "text/plain": [
       "9        -1\n",
       "10        1\n",
       "16        1\n",
       "20        1\n",
       "28        1\n",
       "         ..\n",
       "183507    1\n",
       "183515    1\n",
       "183522    1\n",
       "183524    1\n",
       "183530    1\n",
       "Length: 33336, dtype: int64"
      ]
     },
     "execution_count": 27,
     "metadata": {},
     "output_type": "execute_result"
    }
   ],
   "source": [
    "predicted_labels_high_threshold"
   ]
  },
  {
   "cell_type": "code",
   "execution_count": 28,
   "metadata": {},
   "outputs": [],
   "source": [
    "predicted_labels_low_threshold = (apply_threshold(pd.Series(probabilities,index=true_labels.index),0.5))"
   ]
  },
  {
   "cell_type": "code",
   "execution_count": 29,
   "metadata": {},
   "outputs": [
    {
     "data": {
      "text/plain": [
       "9         1\n",
       "10        1\n",
       "16        1\n",
       "20        1\n",
       "28        1\n",
       "         ..\n",
       "183507    1\n",
       "183515    1\n",
       "183522    1\n",
       "183524    1\n",
       "183530    1\n",
       "Length: 33336, dtype: int64"
      ]
     },
     "execution_count": 29,
     "metadata": {},
     "output_type": "execute_result"
    }
   ],
   "source": [
    "predicted_labels_low_threshold"
   ]
  },
  {
   "cell_type": "code",
   "execution_count": 30,
   "metadata": {},
   "outputs": [
    {
     "name": "stdout",
     "output_type": "stream",
     "text": [
      "Precision on test data: 0.9494503200667965\n"
     ]
    }
   ],
   "source": [
    "precision = precision_score(y_true=test_data['sentiment'].to_numpy(), \n",
    "                            y_pred=predicted_labels_low_threshold.to_numpy())\n",
    "print(\"Precision on test data: %s\" % precision)"
   ]
  },
  {
   "cell_type": "code",
   "execution_count": 31,
   "metadata": {},
   "outputs": [
    {
     "name": "stdout",
     "output_type": "stream",
     "text": [
      "Precision on test data: 0.9814903462581778\n"
     ]
    }
   ],
   "source": [
    "precision = precision_score(y_true=test_data['sentiment'].to_numpy(), \n",
    "                            y_pred=predicted_labels_high_threshold.to_numpy())\n",
    "print(\"Precision on test data: %s\" % precision)"
   ]
  },
  {
   "cell_type": "markdown",
   "metadata": {},
   "source": [
    "### Precision increased from 0.949 to 0.981 with a higher threshold "
   ]
  },
  {
   "cell_type": "code",
   "execution_count": 32,
   "metadata": {},
   "outputs": [
    {
     "name": "stdout",
     "output_type": "stream",
     "text": [
      "Recall on test data: 0.9713828083288841\n"
     ]
    }
   ],
   "source": [
    "recall = recall_score(y_true=test_data['sentiment'].to_numpy(),\n",
    "                      y_pred=predicted_labels_low_threshold.to_numpy())\n",
    "print(\"Recall on test data: %s\" % recall)"
   ]
  },
  {
   "cell_type": "code",
   "execution_count": 33,
   "metadata": {},
   "outputs": [
    {
     "name": "stdout",
     "output_type": "stream",
     "text": [
      "Recall on test data: 0.8757430147713117\n"
     ]
    }
   ],
   "source": [
    "recall = recall_score(y_true=test_data['sentiment'].to_numpy(),\n",
    "                      y_pred=predicted_labels_high_threshold.to_numpy())\n",
    "print(\"Recall on test data: %s\" % recall)"
   ]
  },
  {
   "cell_type": "markdown",
   "metadata": {},
   "source": [
    "### Recall decreased from 0.971 to 0.875 with a higher threshold"
   ]
  },
  {
   "cell_type": "code",
   "execution_count": 34,
   "metadata": {},
   "outputs": [
    {
     "name": "stdout",
     "output_type": "stream",
     "text": [
      "[0.5        0.50494949 0.50989899 0.51484848 0.51979798 0.52474747\n",
      " 0.52969697 0.53464646 0.53959596 0.54454545 0.54949495 0.55444444\n",
      " 0.55939394 0.56434343 0.56929293 0.57424242 0.57919192 0.58414141\n",
      " 0.58909091 0.5940404  0.5989899  0.60393939 0.60888889 0.61383838\n",
      " 0.61878788 0.62373737 0.62868687 0.63363636 0.63858586 0.64353535\n",
      " 0.64848485 0.65343434 0.65838384 0.66333333 0.66828283 0.67323232\n",
      " 0.67818182 0.68313131 0.68808081 0.6930303  0.6979798  0.70292929\n",
      " 0.70787879 0.71282828 0.71777778 0.72272727 0.72767677 0.73262626\n",
      " 0.73757576 0.74252525 0.74747475 0.75242424 0.75737374 0.76232323\n",
      " 0.76727273 0.77222222 0.77717172 0.78212121 0.78707071 0.7920202\n",
      " 0.7969697  0.80191919 0.80686869 0.81181818 0.81676768 0.82171717\n",
      " 0.82666667 0.83161616 0.83656566 0.84151515 0.84646465 0.85141414\n",
      " 0.85636364 0.86131313 0.86626263 0.87121212 0.87616162 0.88111111\n",
      " 0.88606061 0.8910101  0.8959596  0.90090909 0.90585859 0.91080808\n",
      " 0.91575758 0.92070707 0.92565657 0.93060606 0.93555556 0.94050505\n",
      " 0.94545455 0.95040404 0.95535354 0.96030303 0.96525253 0.97020202\n",
      " 0.97515152 0.98010101 0.98505051 0.99      ]\n"
     ]
    }
   ],
   "source": [
    "threshold_values = np.linspace(0.5, 0.99, num=100)\n",
    "print(threshold_values)"
   ]
  },
  {
   "cell_type": "code",
   "execution_count": 35,
   "metadata": {},
   "outputs": [
    {
     "name": "stdout",
     "output_type": "stream",
     "text": [
      "0.7078787878787879\n",
      "0.7128282828282828\n",
      "0.7177777777777777\n",
      "0.7227272727272727\n",
      "0.7276767676767677\n",
      "0.7326262626262626\n",
      "0.7375757575757576\n",
      "0.7425252525252525\n",
      "0.7474747474747474\n",
      "0.7524242424242424\n",
      "0.7573737373737374\n",
      "0.7623232323232323\n",
      "0.7672727272727273\n",
      "0.7722222222222221\n",
      "0.7771717171717172\n",
      "0.7821212121212121\n",
      "0.787070707070707\n",
      "0.7920202020202021\n",
      "0.7969696969696969\n",
      "0.8019191919191919\n",
      "0.8068686868686868\n",
      "0.8118181818181818\n",
      "0.8167676767676768\n",
      "0.8217171717171716\n",
      "0.8266666666666667\n",
      "0.8316161616161616\n",
      "0.8365656565656565\n",
      "0.8415151515151515\n",
      "0.8464646464646465\n",
      "0.8514141414141414\n",
      "0.8563636363636363\n",
      "0.8613131313131313\n",
      "0.8662626262626263\n",
      "0.8712121212121212\n",
      "0.8761616161616161\n",
      "0.8811111111111111\n",
      "0.886060606060606\n",
      "0.891010101010101\n",
      "0.895959595959596\n",
      "0.9009090909090909\n",
      "0.9058585858585859\n",
      "0.9108080808080807\n",
      "0.9157575757575758\n",
      "0.9207070707070707\n",
      "0.9256565656565656\n",
      "0.9306060606060607\n",
      "0.9355555555555555\n",
      "0.9405050505050505\n",
      "0.9454545454545454\n",
      "0.9504040404040404\n",
      "0.9553535353535354\n",
      "0.9603030303030302\n",
      "0.9652525252525253\n",
      "0.9702020202020202\n",
      "0.9751515151515151\n",
      "0.9801010101010101\n",
      "0.985050505050505\n",
      "0.99\n"
     ]
    }
   ],
   "source": [
    "precision_all = []\n",
    "recall_all = []\n",
    "for threshold in threshold_values:\n",
    "    if precision_score(y_true=test_data['sentiment'].to_numpy(), \n",
    "                            y_pred=apply_threshold(pd.Series(probabilities),threshold).to_numpy()) >= 0.965:\n",
    "        print(threshold)\n",
    "    precision_all.append(precision_score(y_true=test_data['sentiment'].to_numpy(), \n",
    "                            y_pred=apply_threshold(pd.Series(probabilities),threshold).to_numpy()))\n",
    "    recall_all.append(recall_score(y_true=test_data['sentiment'].to_numpy(), \n",
    "                            y_pred=apply_threshold(pd.Series(probabilities),threshold).to_numpy()))"
   ]
  },
  {
   "cell_type": "code",
   "execution_count": 36,
   "metadata": {},
   "outputs": [
    {
     "data": {
      "text/plain": [
       "[0.9494503200667965,\n",
       " 0.9499582114500627,\n",
       " 0.9503276631344116,\n",
       " 0.9509386558727057,\n",
       " 0.9513549378404805,\n",
       " 0.9517053396701146,\n",
       " 0.952152775348886,\n",
       " 0.9523692867641912,\n",
       " 0.9528229195853181,\n",
       " 0.953106928819262,\n",
       " 0.9536221715488511,\n",
       " 0.9539790079685471,\n",
       " 0.9542325254654022,\n",
       " 0.9545486501687289,\n",
       " 0.9548668519365392,\n",
       " 0.9550031687909302,\n",
       " 0.9553848322526078,\n",
       " 0.9556629395788508,\n",
       " 0.9559415378097861,\n",
       " 0.9564295558146931,\n",
       " 0.9567416525183927,\n",
       " 0.9570265486725664,\n",
       " 0.9575154135071929,\n",
       " 0.9577704499521328,\n",
       " 0.9580523812903684,\n",
       " 0.9584739440872438,\n",
       " 0.9591067491643553,\n",
       " 0.9595643197835837,\n",
       " 0.9599116274097567,\n",
       " 0.9604666928319121,\n",
       " 0.9608214285714286,\n",
       " 0.9610997890521649,\n",
       " 0.9614627688123949,\n",
       " 0.9619228427123259,\n",
       " 0.9623507476065832,\n",
       " 0.962775504343456,\n",
       " 0.9629616324184509,\n",
       " 0.9633747076812377,\n",
       " 0.9638033495407887,\n",
       " 0.9641942811812642,\n",
       " 0.9644430005053787,\n",
       " 0.9649002313475997,\n",
       " 0.9651503636955814,\n",
       " 0.9653011699083632,\n",
       " 0.9655097377869655,\n",
       " 0.9657952069716775,\n",
       " 0.9661805883850322,\n",
       " 0.9665404500109226,\n",
       " 0.9670325662813173,\n",
       " 0.967559273736894,\n",
       " 0.9677985948477752,\n",
       " 0.9681638335287222,\n",
       " 0.968630760199589,\n",
       " 0.9691691470988131,\n",
       " 0.9694917749236375,\n",
       " 0.9702400708042925,\n",
       " 0.9707055781307721,\n",
       " 0.9708472068072512,\n",
       " 0.9714190391459074,\n",
       " 0.9718168653224908,\n",
       " 0.9722521852334015,\n",
       " 0.9735183795948987,\n",
       " 0.9737485426304111,\n",
       " 0.97411746976604,\n",
       " 0.97436671826041,\n",
       " 0.9746044962531224,\n",
       " 0.9750018966694485,\n",
       " 0.9756941802966907,\n",
       " 0.9760997179233056,\n",
       " 0.9763996028412129,\n",
       " 0.9765412728177261,\n",
       " 0.9769788589187738,\n",
       " 0.9773996072844877,\n",
       " 0.9776704655205718,\n",
       " 0.9782153655322118,\n",
       " 0.9788880248833592,\n",
       " 0.9792113576972581,\n",
       " 0.9798260733312442,\n",
       " 0.9801243702770781,\n",
       " 0.980510752688172,\n",
       " 0.9812475168851807,\n",
       " 0.9815546772068511,\n",
       " 0.9818955481514191,\n",
       " 0.9827363665698613,\n",
       " 0.9830714894653514,\n",
       " 0.98359918200409,\n",
       " 0.9840204274947489,\n",
       " 0.9844256167455768,\n",
       " 0.9851115584633451,\n",
       " 0.9855176794410332,\n",
       " 0.9861770873454017,\n",
       " 0.9867896742896742,\n",
       " 0.987429676511955,\n",
       " 0.9877248582779092,\n",
       " 0.9882883703973752,\n",
       " 0.9888671511086268,\n",
       " 0.989646743037914,\n",
       " 0.9903779040781733,\n",
       " 0.9907795473595976,\n",
       " 0.9921555252387448]"
      ]
     },
     "execution_count": 36,
     "metadata": {},
     "output_type": "execute_result"
    }
   ],
   "source": [
    "precision_all"
   ]
  },
  {
   "cell_type": "code",
   "execution_count": 37,
   "metadata": {},
   "outputs": [
    {
     "data": {
      "text/plain": [
       "[0.9713828083288841,\n",
       " 0.9709556860651362,\n",
       " 0.9703861897134721,\n",
       " 0.9699946609717032,\n",
       " 0.9696743192738921,\n",
       " 0.9693539775760811,\n",
       " 0.9689624488343122,\n",
       " 0.9686065136145221,\n",
       " 0.9683217654386902,\n",
       " 0.9679658302189001,\n",
       " 0.9675387079551522,\n",
       " 0.9672895533012992,\n",
       " 0.9669692116034881,\n",
       " 0.9665420893397402,\n",
       " 0.9661505605979712,\n",
       " 0.9654386901583911,\n",
       " 0.9649403808506851,\n",
       " 0.9643708844990212,\n",
       " 0.9638013881473572,\n",
       " 0.9633742658836092,\n",
       " 0.9627691760099661,\n",
       " 0.9623064602242392,\n",
       " 0.9618437444385122,\n",
       " 0.9614522156967432,\n",
       " 0.9608827193450792,\n",
       " 0.9603844100373732,\n",
       " 0.9600284748175832,\n",
       " 0.9595301655098772,\n",
       " 0.9588182950702973,\n",
       " 0.9581420181526962,\n",
       " 0.9575725218010323,\n",
       " 0.9567894643174942,\n",
       " 0.9563979355757252,\n",
       " 0.9558284392240612,\n",
       " 0.9552945363943762,\n",
       " 0.9546538529987543,\n",
       " 0.9540843566470902,\n",
       " 0.9530877380316782,\n",
       " 0.9524826481580352,\n",
       " 0.9517707777184552,\n",
       " 0.9509521267129383,\n",
       " 0.9500978821854422,\n",
       " 0.9492792311799253,\n",
       " 0.9486029542623242,\n",
       " 0.9475707421249333,\n",
       " 0.9467164975974373,\n",
       " 0.9456842854600462,\n",
       " 0.9449012279765083,\n",
       " 0.9438334223171383,\n",
       " 0.9426944296138103,\n",
       " 0.9413774693005873,\n",
       " 0.9406300053390283,\n",
       " 0.9397045737675743,\n",
       " 0.9387435486741413,\n",
       " 0.9376757430147713,\n",
       " 0.9364655632674853,\n",
       " 0.9352909770421783,\n",
       " 0.9340452037729133,\n",
       " 0.9327282434596903,\n",
       " 0.9315536572343833,\n",
       " 0.9303790710090764,\n",
       " 0.9237942694429614,\n",
       " 0.9215518775582844,\n",
       " 0.9203061042890194,\n",
       " 0.9186688022779854,\n",
       " 0.9165687844812244,\n",
       " 0.9148602954262324,\n",
       " 0.9130094322833244,\n",
       " 0.9114433173162484,\n",
       " 0.9100551699590674,\n",
       " 0.9082754938601174,\n",
       " 0.9063178501512724,\n",
       " 0.9035771489588895,\n",
       " 0.9007652607225485,\n",
       " 0.8982381206620396,\n",
       " 0.8961381028652785,\n",
       " 0.8936109628047695,\n",
       " 0.8903007652607225,\n",
       " 0.8863854778430326,\n",
       " 0.8828261256451326,\n",
       " 0.8790888058373376,\n",
       " 0.8750667378537106,\n",
       " 0.8706175476063357,\n",
       " 0.8672005694963517,\n",
       " 0.8619327282434597,\n",
       " 0.8559886100729667,\n",
       " 0.8504360206442427,\n",
       " 0.8436732514682328,\n",
       " 0.8360562377647268,\n",
       " 0.8283680370172628,\n",
       " 0.8202171204840719,\n",
       " 0.810927211247553,\n",
       " 0.79964406478021,\n",
       " 0.787613454351308,\n",
       " 0.7719167111585692,\n",
       " 0.7556148780921872,\n",
       " 0.7348994483004093,\n",
       " 0.7070653141128315,\n",
       " 0.6731446876668447,\n",
       " 0.6212493326214629]"
      ]
     },
     "execution_count": 37,
     "metadata": {},
     "output_type": "execute_result"
    }
   ],
   "source": [
    "recall_all"
   ]
  },
  {
   "cell_type": "code",
   "execution_count": 38,
   "metadata": {},
   "outputs": [],
   "source": [
    "def plot_pr_curve(precision, recall, title):\n",
    "    plt.rcParams['figure.figsize'] = 7, 5\n",
    "    plt.locator_params(axis = 'x', nbins = 5)\n",
    "    plt.plot(precision, recall, 'b-', linewidth=4.0, color = '#B0017F')\n",
    "    plt.title(title)\n",
    "    plt.xlabel('Precision')\n",
    "    plt.ylabel('Recall')\n",
    "    plt.rcParams.update({'font.size': 16})"
   ]
  },
  {
   "cell_type": "code",
   "execution_count": 39,
   "metadata": {},
   "outputs": [
    {
     "data": {
      "image/png": "[encoded data removed]",
      "text/plain": [
       "<Figure size 504x360 with 1 Axes>"
      ]
     },
     "metadata": {
      "needs_background": "light"
     },
     "output_type": "display_data"
    }
   ],
   "source": [
    "plot_pr_curve(precision_all, recall_all, 'Precision recall curve (all)')"
   ]
  },
  {
   "cell_type": "markdown",
   "metadata": {},
   "source": [
    "### The smallest threshold value that achieves a precison of greater than 96.5% is 0.708"
   ]
  },
  {
   "cell_type": "code",
   "execution_count": 40,
   "metadata": {},
   "outputs": [
    {
     "name": "stdout",
     "output_type": "stream",
     "text": [
      " target_label | predicted_label | count \n",
      "--------------+-----------------+-------\n",
      "     -1       |       -1        |  5047\n",
      "     -1       |        1        |   194\n",
      "      1       |       -1        |  8208\n",
      "      1       |        1        | 19887\n"
     ]
    }
   ],
   "source": [
    "cmat = confusion_matrix(y_true=test_data['sentiment'].to_numpy(),\n",
    "                        y_pred=apply_threshold(pd.Series(probabilities),0.98).to_numpy(),\n",
    "                        labels=model.classes_)    # use the same order of class as the LR model.\n",
    "print(' target_label | predicted_label | count ')\n",
    "print ('--------------+-----------------+-------')\n",
    "# Print out the confusion matrix.\n",
    "# NOTE: Your tool may arrange entries in a different order. Consult appropriate manuals.\n",
    "for i, target_label in enumerate(model.classes_):\n",
    "    for j, predicted_label in enumerate(model.classes_):\n",
    "        print('{0:^13} | {1:^15} | {2:5d}'.format(target_label, predicted_label, cmat[i,j]))"
   ]
  },
  {
   "cell_type": "markdown",
   "metadata": {},
   "source": [
    "### Using threshold = 0.98, we get 8208 false negatives on the test data"
   ]
  },
  {
   "cell_type": "code",
   "execution_count": 41,
   "metadata": {},
   "outputs": [],
   "source": [
    "baby_reviews = test_data[test_data['name'].apply(lambda x: 'baby' in str(x).lower())]"
   ]
  },
  {
   "cell_type": "code",
   "execution_count": 44,
   "metadata": {},
   "outputs": [],
   "source": [
    "baby_matrix = vectorizer.transform(baby_reviews['review_clean'])\n",
    "probabilities = model.predict_proba(baby_matrix)[:,1]"
   ]
  },
  {
   "cell_type": "code",
   "execution_count": 46,
   "metadata": {},
   "outputs": [],
   "source": [
    "threshold_values = np.linspace(0.5, 0.99, num=100)"
   ]
  },
  {
   "cell_type": "code",
   "execution_count": 49,
   "metadata": {},
   "outputs": [
    {
     "name": "stdout",
     "output_type": "stream",
     "text": [
      "0.7326262626262626\n",
      "0.7375757575757576\n",
      "0.7425252525252525\n",
      "0.7474747474747474\n",
      "0.7524242424242424\n",
      "0.7573737373737374\n",
      "0.7623232323232323\n",
      "0.7672727272727273\n",
      "0.7722222222222221\n",
      "0.7771717171717172\n",
      "0.7821212121212121\n",
      "0.787070707070707\n",
      "0.7920202020202021\n",
      "0.7969696969696969\n",
      "0.8019191919191919\n",
      "0.8068686868686868\n",
      "0.8118181818181818\n",
      "0.8167676767676768\n",
      "0.8217171717171716\n",
      "0.8266666666666667\n",
      "0.8316161616161616\n",
      "0.8365656565656565\n",
      "0.8415151515151515\n",
      "0.8464646464646465\n",
      "0.8514141414141414\n",
      "0.8563636363636363\n",
      "0.8613131313131313\n",
      "0.8662626262626263\n",
      "0.8712121212121212\n",
      "0.8761616161616161\n",
      "0.8811111111111111\n",
      "0.886060606060606\n",
      "0.891010101010101\n",
      "0.895959595959596\n",
      "0.9009090909090909\n",
      "0.9058585858585859\n",
      "0.9108080808080807\n",
      "0.9157575757575758\n",
      "0.9207070707070707\n",
      "0.9256565656565656\n",
      "0.9306060606060607\n",
      "0.9355555555555555\n",
      "0.9405050505050505\n",
      "0.9454545454545454\n",
      "0.9504040404040404\n",
      "0.9553535353535354\n",
      "0.9603030303030302\n",
      "0.9652525252525253\n",
      "0.9702020202020202\n",
      "0.9751515151515151\n",
      "0.9801010101010101\n",
      "0.985050505050505\n",
      "0.99\n"
     ]
    }
   ],
   "source": [
    "precision_all = []\n",
    "recall_all = []\n",
    "for threshold in threshold_values:\n",
    "    if precision_score(y_true=baby_reviews['sentiment'].to_numpy(), \n",
    "                            y_pred=apply_threshold(pd.Series(probabilities),threshold).to_numpy()) >= 0.965:\n",
    "        print(threshold)\n",
    "    precision_all.append(precision_score(y_true=baby_reviews['sentiment'].to_numpy(), \n",
    "                            y_pred=apply_threshold(pd.Series(probabilities),threshold).to_numpy()))\n",
    "    recall_all.append(recall_score(y_true=baby_reviews['sentiment'].to_numpy(), \n",
    "                            y_pred=apply_threshold(pd.Series(probabilities),threshold).to_numpy()))"
   ]
  },
  {
   "cell_type": "markdown",
   "metadata": {},
   "source": [
    "### The smallest threshold value that achieves a precison of greater than 96.5% on baby_reviews is 0.733"
   ]
  },
  {
   "cell_type": "code",
   "execution_count": 50,
   "metadata": {},
   "outputs": [
    {
     "data": {
      "image/png": "[encoded data removed]",
      "text/plain": [
       "<Figure size 504x360 with 1 Axes>"
      ]
     },
     "metadata": {
      "needs_background": "light"
     },
     "output_type": "display_data"
    }
   ],
   "source": [
    "plot_pr_curve(precision_all, recall_all, \"Precision-Recall (Baby)\")"
   ]
  },
  {
   "cell_type": "code",
   "execution_count": null,
   "metadata": {},
   "outputs": [],
   "source": []
  }
 ],
 "metadata": {
  "kernelspec": {
   "display_name": "Python 3",
   "language": "python",
   "name": "python3"
  },
  "language_info": {
   "codemirror_mode": {
    "name": "ipython",
    "version": 3
   },
   "file_extension": ".py",
   "mimetype": "text/x-python",
   "name": "python",
   "nbconvert_exporter": "python",
   "pygments_lexer": "ipython3",
   "version": "3.7.4"
  }
 },
 "nbformat": 4,
 "nbformat_minor": 4
}
