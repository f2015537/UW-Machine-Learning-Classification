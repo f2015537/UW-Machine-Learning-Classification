{
 "cells": [
  {
   "cell_type": "code",
   "execution_count": 1,
   "metadata": {},
   "outputs": [],
   "source": [
    "import numpy as np\n",
    "import pandas as pd\n",
    "import matplotlib.pyplot as plt\n",
    "%matplotlib inline"
   ]
  },
  {
   "cell_type": "code",
   "execution_count": 2,
   "metadata": {},
   "outputs": [],
   "source": [
    "PATH = 'data/'"
   ]
  },
  {
   "cell_type": "code",
   "execution_count": 3,
   "metadata": {},
   "outputs": [],
   "source": [
    "products = pd.read_csv(f'{PATH}amazon_baby_subset.csv')"
   ]
  },
  {
   "cell_type": "code",
   "execution_count": 5,
   "metadata": {},
   "outputs": [
    {
     "data": {
      "text/html": [
       "<div>\n",
       "<style scoped>\n",
       "    .dataframe tbody tr th:only-of-type {\n",
       "        vertical-align: middle;\n",
       "    }\n",
       "\n",
       "    .dataframe tbody tr th {\n",
       "        vertical-align: top;\n",
       "    }\n",
       "\n",
       "    .dataframe thead th {\n",
       "        text-align: right;\n",
       "    }\n",
       "</style>\n",
       "<table border=\"1\" class=\"dataframe\">\n",
       "  <thead>\n",
       "    <tr style=\"text-align: right;\">\n",
       "      <th></th>\n",
       "      <th>name</th>\n",
       "      <th>review</th>\n",
       "      <th>rating</th>\n",
       "      <th>sentiment</th>\n",
       "    </tr>\n",
       "  </thead>\n",
       "  <tbody>\n",
       "    <tr>\n",
       "      <th>0</th>\n",
       "      <td>Stop Pacifier Sucking without tears with Thumb...</td>\n",
       "      <td>All of my kids have cried non-stop when I trie...</td>\n",
       "      <td>5</td>\n",
       "      <td>1</td>\n",
       "    </tr>\n",
       "    <tr>\n",
       "      <th>1</th>\n",
       "      <td>Nature's Lullabies Second Year Sticker Calendar</td>\n",
       "      <td>We wanted to get something to keep track of ou...</td>\n",
       "      <td>5</td>\n",
       "      <td>1</td>\n",
       "    </tr>\n",
       "    <tr>\n",
       "      <th>2</th>\n",
       "      <td>Nature's Lullabies Second Year Sticker Calendar</td>\n",
       "      <td>My daughter had her 1st baby over a year ago. ...</td>\n",
       "      <td>5</td>\n",
       "      <td>1</td>\n",
       "    </tr>\n",
       "    <tr>\n",
       "      <th>3</th>\n",
       "      <td>Lamaze Peekaboo, I Love You</td>\n",
       "      <td>One of baby's first and favorite books, and it...</td>\n",
       "      <td>4</td>\n",
       "      <td>1</td>\n",
       "    </tr>\n",
       "    <tr>\n",
       "      <th>4</th>\n",
       "      <td>SoftPlay Peek-A-Boo Where's Elmo A Children's ...</td>\n",
       "      <td>Very cute interactive book! My son loves this ...</td>\n",
       "      <td>5</td>\n",
       "      <td>1</td>\n",
       "    </tr>\n",
       "    <tr>\n",
       "      <th>...</th>\n",
       "      <td>...</td>\n",
       "      <td>...</td>\n",
       "      <td>...</td>\n",
       "      <td>...</td>\n",
       "    </tr>\n",
       "    <tr>\n",
       "      <th>53067</th>\n",
       "      <td>Samsung Baby Care Washer, Stainless Platinum, ...</td>\n",
       "      <td>My infant goes to a really crappy daycare, and...</td>\n",
       "      <td>1</td>\n",
       "      <td>-1</td>\n",
       "    </tr>\n",
       "    <tr>\n",
       "      <th>53068</th>\n",
       "      <td>Mud Pie Milestone Stickers, Boy</td>\n",
       "      <td>Pretty please open and inspect these stickers ...</td>\n",
       "      <td>1</td>\n",
       "      <td>-1</td>\n",
       "    </tr>\n",
       "    <tr>\n",
       "      <th>53069</th>\n",
       "      <td>Best BIB for Baby - Soft Bib (Pink-Elephant)</td>\n",
       "      <td>Great 5-Star Product but An Obvious knock-off ...</td>\n",
       "      <td>1</td>\n",
       "      <td>-1</td>\n",
       "    </tr>\n",
       "    <tr>\n",
       "      <th>53070</th>\n",
       "      <td>Bouncy&amp;reg; Inflatable Real Feel Hopping Cow</td>\n",
       "      <td>When I received the item my initial thought wa...</td>\n",
       "      <td>2</td>\n",
       "      <td>-1</td>\n",
       "    </tr>\n",
       "    <tr>\n",
       "      <th>53071</th>\n",
       "      <td>Maxboost iPhone 5S/5 Case - Protective Snap-on...</td>\n",
       "      <td>I got this case in the mail today, it came on ...</td>\n",
       "      <td>2</td>\n",
       "      <td>-1</td>\n",
       "    </tr>\n",
       "  </tbody>\n",
       "</table>\n",
       "<p>53072 rows × 4 columns</p>\n",
       "</div>"
      ],
      "text/plain": [
       "                                                    name  \\\n",
       "0      Stop Pacifier Sucking without tears with Thumb...   \n",
       "1        Nature's Lullabies Second Year Sticker Calendar   \n",
       "2        Nature's Lullabies Second Year Sticker Calendar   \n",
       "3                            Lamaze Peekaboo, I Love You   \n",
       "4      SoftPlay Peek-A-Boo Where's Elmo A Children's ...   \n",
       "...                                                  ...   \n",
       "53067  Samsung Baby Care Washer, Stainless Platinum, ...   \n",
       "53068                    Mud Pie Milestone Stickers, Boy   \n",
       "53069       Best BIB for Baby - Soft Bib (Pink-Elephant)   \n",
       "53070       Bouncy&reg; Inflatable Real Feel Hopping Cow   \n",
       "53071  Maxboost iPhone 5S/5 Case - Protective Snap-on...   \n",
       "\n",
       "                                                  review  rating  sentiment  \n",
       "0      All of my kids have cried non-stop when I trie...       5          1  \n",
       "1      We wanted to get something to keep track of ou...       5          1  \n",
       "2      My daughter had her 1st baby over a year ago. ...       5          1  \n",
       "3      One of baby's first and favorite books, and it...       4          1  \n",
       "4      Very cute interactive book! My son loves this ...       5          1  \n",
       "...                                                  ...     ...        ...  \n",
       "53067  My infant goes to a really crappy daycare, and...       1         -1  \n",
       "53068  Pretty please open and inspect these stickers ...       1         -1  \n",
       "53069  Great 5-Star Product but An Obvious knock-off ...       1         -1  \n",
       "53070  When I received the item my initial thought wa...       2         -1  \n",
       "53071  I got this case in the mail today, it came on ...       2         -1  \n",
       "\n",
       "[53072 rows x 4 columns]"
      ]
     },
     "execution_count": 5,
     "metadata": {},
     "output_type": "execute_result"
    }
   ],
   "source": [
    "products"
   ]
  },
  {
   "cell_type": "markdown",
   "metadata": {},
   "source": [
    "### The following are the first 10 names"
   ]
  },
  {
   "cell_type": "code",
   "execution_count": 14,
   "metadata": {},
   "outputs": [
    {
     "data": {
      "text/html": [
       "<div>\n",
       "<style scoped>\n",
       "    .dataframe tbody tr th:only-of-type {\n",
       "        vertical-align: middle;\n",
       "    }\n",
       "\n",
       "    .dataframe tbody tr th {\n",
       "        vertical-align: top;\n",
       "    }\n",
       "\n",
       "    .dataframe thead th {\n",
       "        text-align: right;\n",
       "    }\n",
       "</style>\n",
       "<table border=\"1\" class=\"dataframe\">\n",
       "  <thead>\n",
       "    <tr style=\"text-align: right;\">\n",
       "      <th></th>\n",
       "      <th>name</th>\n",
       "      <th>review</th>\n",
       "      <th>rating</th>\n",
       "      <th>sentiment</th>\n",
       "    </tr>\n",
       "  </thead>\n",
       "  <tbody>\n",
       "    <tr>\n",
       "      <th>0</th>\n",
       "      <td>Stop Pacifier Sucking without tears with Thumb...</td>\n",
       "      <td>All of my kids have cried non-stop when I trie...</td>\n",
       "      <td>5</td>\n",
       "      <td>1</td>\n",
       "    </tr>\n",
       "    <tr>\n",
       "      <th>1</th>\n",
       "      <td>Nature's Lullabies Second Year Sticker Calendar</td>\n",
       "      <td>We wanted to get something to keep track of ou...</td>\n",
       "      <td>5</td>\n",
       "      <td>1</td>\n",
       "    </tr>\n",
       "    <tr>\n",
       "      <th>2</th>\n",
       "      <td>Nature's Lullabies Second Year Sticker Calendar</td>\n",
       "      <td>My daughter had her 1st baby over a year ago. ...</td>\n",
       "      <td>5</td>\n",
       "      <td>1</td>\n",
       "    </tr>\n",
       "    <tr>\n",
       "      <th>3</th>\n",
       "      <td>Lamaze Peekaboo, I Love You</td>\n",
       "      <td>One of baby's first and favorite books, and it...</td>\n",
       "      <td>4</td>\n",
       "      <td>1</td>\n",
       "    </tr>\n",
       "    <tr>\n",
       "      <th>4</th>\n",
       "      <td>SoftPlay Peek-A-Boo Where's Elmo A Children's ...</td>\n",
       "      <td>Very cute interactive book! My son loves this ...</td>\n",
       "      <td>5</td>\n",
       "      <td>1</td>\n",
       "    </tr>\n",
       "    <tr>\n",
       "      <th>5</th>\n",
       "      <td>Our Baby Girl Memory Book</td>\n",
       "      <td>Beautiful book, I love it to record cherished ...</td>\n",
       "      <td>5</td>\n",
       "      <td>1</td>\n",
       "    </tr>\n",
       "    <tr>\n",
       "      <th>6</th>\n",
       "      <td>Hunnt&amp;reg; Falling Flowers and Birds Kids Nurs...</td>\n",
       "      <td>Try this out for a spring project !Easy ,fun a...</td>\n",
       "      <td>5</td>\n",
       "      <td>1</td>\n",
       "    </tr>\n",
       "    <tr>\n",
       "      <th>7</th>\n",
       "      <td>Blessed By Pope Benedict XVI Divine Mercy Full...</td>\n",
       "      <td>very nice Divine Mercy Pendant of Jesus now on...</td>\n",
       "      <td>5</td>\n",
       "      <td>1</td>\n",
       "    </tr>\n",
       "    <tr>\n",
       "      <th>8</th>\n",
       "      <td>Cloth Diaper Pins Stainless Steel Traditional ...</td>\n",
       "      <td>We bought the pins as my 6 year old Autistic s...</td>\n",
       "      <td>4</td>\n",
       "      <td>1</td>\n",
       "    </tr>\n",
       "    <tr>\n",
       "      <th>9</th>\n",
       "      <td>Cloth Diaper Pins Stainless Steel Traditional ...</td>\n",
       "      <td>It has been many years since we needed diaper ...</td>\n",
       "      <td>5</td>\n",
       "      <td>1</td>\n",
       "    </tr>\n",
       "  </tbody>\n",
       "</table>\n",
       "</div>"
      ],
      "text/plain": [
       "                                                name  \\\n",
       "0  Stop Pacifier Sucking without tears with Thumb...   \n",
       "1    Nature's Lullabies Second Year Sticker Calendar   \n",
       "2    Nature's Lullabies Second Year Sticker Calendar   \n",
       "3                        Lamaze Peekaboo, I Love You   \n",
       "4  SoftPlay Peek-A-Boo Where's Elmo A Children's ...   \n",
       "5                          Our Baby Girl Memory Book   \n",
       "6  Hunnt&reg; Falling Flowers and Birds Kids Nurs...   \n",
       "7  Blessed By Pope Benedict XVI Divine Mercy Full...   \n",
       "8  Cloth Diaper Pins Stainless Steel Traditional ...   \n",
       "9  Cloth Diaper Pins Stainless Steel Traditional ...   \n",
       "\n",
       "                                              review  rating  sentiment  \n",
       "0  All of my kids have cried non-stop when I trie...       5          1  \n",
       "1  We wanted to get something to keep track of ou...       5          1  \n",
       "2  My daughter had her 1st baby over a year ago. ...       5          1  \n",
       "3  One of baby's first and favorite books, and it...       4          1  \n",
       "4  Very cute interactive book! My son loves this ...       5          1  \n",
       "5  Beautiful book, I love it to record cherished ...       5          1  \n",
       "6  Try this out for a spring project !Easy ,fun a...       5          1  \n",
       "7  very nice Divine Mercy Pendant of Jesus now on...       5          1  \n",
       "8  We bought the pins as my 6 year old Autistic s...       4          1  \n",
       "9  It has been many years since we needed diaper ...       5          1  "
      ]
     },
     "execution_count": 14,
     "metadata": {},
     "output_type": "execute_result"
    }
   ],
   "source": [
    "products.head(10)"
   ]
  },
  {
   "cell_type": "markdown",
   "metadata": {},
   "source": [
    "### 26579 reviews are positive"
   ]
  },
  {
   "cell_type": "code",
   "execution_count": 11,
   "metadata": {},
   "outputs": [
    {
     "data": {
      "text/html": [
       "<div>\n",
       "<style scoped>\n",
       "    .dataframe tbody tr th:only-of-type {\n",
       "        vertical-align: middle;\n",
       "    }\n",
       "\n",
       "    .dataframe tbody tr th {\n",
       "        vertical-align: top;\n",
       "    }\n",
       "\n",
       "    .dataframe thead th {\n",
       "        text-align: right;\n",
       "    }\n",
       "</style>\n",
       "<table border=\"1\" class=\"dataframe\">\n",
       "  <thead>\n",
       "    <tr style=\"text-align: right;\">\n",
       "      <th></th>\n",
       "      <th>name</th>\n",
       "      <th>review</th>\n",
       "      <th>rating</th>\n",
       "      <th>sentiment</th>\n",
       "    </tr>\n",
       "  </thead>\n",
       "  <tbody>\n",
       "    <tr>\n",
       "      <th>0</th>\n",
       "      <td>Stop Pacifier Sucking without tears with Thumb...</td>\n",
       "      <td>All of my kids have cried non-stop when I trie...</td>\n",
       "      <td>5</td>\n",
       "      <td>1</td>\n",
       "    </tr>\n",
       "    <tr>\n",
       "      <th>1</th>\n",
       "      <td>Nature's Lullabies Second Year Sticker Calendar</td>\n",
       "      <td>We wanted to get something to keep track of ou...</td>\n",
       "      <td>5</td>\n",
       "      <td>1</td>\n",
       "    </tr>\n",
       "    <tr>\n",
       "      <th>2</th>\n",
       "      <td>Nature's Lullabies Second Year Sticker Calendar</td>\n",
       "      <td>My daughter had her 1st baby over a year ago. ...</td>\n",
       "      <td>5</td>\n",
       "      <td>1</td>\n",
       "    </tr>\n",
       "    <tr>\n",
       "      <th>3</th>\n",
       "      <td>Lamaze Peekaboo, I Love You</td>\n",
       "      <td>One of baby's first and favorite books, and it...</td>\n",
       "      <td>4</td>\n",
       "      <td>1</td>\n",
       "    </tr>\n",
       "    <tr>\n",
       "      <th>4</th>\n",
       "      <td>SoftPlay Peek-A-Boo Where's Elmo A Children's ...</td>\n",
       "      <td>Very cute interactive book! My son loves this ...</td>\n",
       "      <td>5</td>\n",
       "      <td>1</td>\n",
       "    </tr>\n",
       "    <tr>\n",
       "      <th>...</th>\n",
       "      <td>...</td>\n",
       "      <td>...</td>\n",
       "      <td>...</td>\n",
       "      <td>...</td>\n",
       "    </tr>\n",
       "    <tr>\n",
       "      <th>26574</th>\n",
       "      <td>Maxboost iPhone 5S/5 Case - Protective Snap-on...</td>\n",
       "      <td>got this for my wife and she loves it would de...</td>\n",
       "      <td>5</td>\n",
       "      <td>1</td>\n",
       "    </tr>\n",
       "    <tr>\n",
       "      <th>26575</th>\n",
       "      <td>Maxboost iPhone 5S/5 Case - Protective Snap-on...</td>\n",
       "      <td>this case is the greatest very cool and stylis...</td>\n",
       "      <td>5</td>\n",
       "      <td>1</td>\n",
       "    </tr>\n",
       "    <tr>\n",
       "      <th>26576</th>\n",
       "      <td>Airline Seat Belt Extender - The Best Extensio...</td>\n",
       "      <td>I bought this as a father's day gift for my da...</td>\n",
       "      <td>5</td>\n",
       "      <td>1</td>\n",
       "    </tr>\n",
       "    <tr>\n",
       "      <th>26577</th>\n",
       "      <td>Squeasy Snacker 6oz Silicone Reusable Food Pou...</td>\n",
       "      <td>This reusable squeeze bottle is the best I hav...</td>\n",
       "      <td>5</td>\n",
       "      <td>1</td>\n",
       "    </tr>\n",
       "    <tr>\n",
       "      <th>26578</th>\n",
       "      <td>Baby Food Freezer Tray - Bacteria Resistant, B...</td>\n",
       "      <td>I am extremely happy with this product. I have...</td>\n",
       "      <td>5</td>\n",
       "      <td>1</td>\n",
       "    </tr>\n",
       "  </tbody>\n",
       "</table>\n",
       "<p>26579 rows × 4 columns</p>\n",
       "</div>"
      ],
      "text/plain": [
       "                                                    name  \\\n",
       "0      Stop Pacifier Sucking without tears with Thumb...   \n",
       "1        Nature's Lullabies Second Year Sticker Calendar   \n",
       "2        Nature's Lullabies Second Year Sticker Calendar   \n",
       "3                            Lamaze Peekaboo, I Love You   \n",
       "4      SoftPlay Peek-A-Boo Where's Elmo A Children's ...   \n",
       "...                                                  ...   \n",
       "26574  Maxboost iPhone 5S/5 Case - Protective Snap-on...   \n",
       "26575  Maxboost iPhone 5S/5 Case - Protective Snap-on...   \n",
       "26576  Airline Seat Belt Extender - The Best Extensio...   \n",
       "26577  Squeasy Snacker 6oz Silicone Reusable Food Pou...   \n",
       "26578  Baby Food Freezer Tray - Bacteria Resistant, B...   \n",
       "\n",
       "                                                  review  rating  sentiment  \n",
       "0      All of my kids have cried non-stop when I trie...       5          1  \n",
       "1      We wanted to get something to keep track of ou...       5          1  \n",
       "2      My daughter had her 1st baby over a year ago. ...       5          1  \n",
       "3      One of baby's first and favorite books, and it...       4          1  \n",
       "4      Very cute interactive book! My son loves this ...       5          1  \n",
       "...                                                  ...     ...        ...  \n",
       "26574  got this for my wife and she loves it would de...       5          1  \n",
       "26575  this case is the greatest very cool and stylis...       5          1  \n",
       "26576  I bought this as a father's day gift for my da...       5          1  \n",
       "26577  This reusable squeeze bottle is the best I hav...       5          1  \n",
       "26578  I am extremely happy with this product. I have...       5          1  \n",
       "\n",
       "[26579 rows x 4 columns]"
      ]
     },
     "execution_count": 11,
     "metadata": {},
     "output_type": "execute_result"
    }
   ],
   "source": [
    "products[products['sentiment'] == 1]"
   ]
  },
  {
   "cell_type": "markdown",
   "metadata": {},
   "source": [
    "### 26493 reviews are negative"
   ]
  },
  {
   "cell_type": "code",
   "execution_count": 13,
   "metadata": {},
   "outputs": [
    {
     "data": {
      "text/html": [
       "<div>\n",
       "<style scoped>\n",
       "    .dataframe tbody tr th:only-of-type {\n",
       "        vertical-align: middle;\n",
       "    }\n",
       "\n",
       "    .dataframe tbody tr th {\n",
       "        vertical-align: top;\n",
       "    }\n",
       "\n",
       "    .dataframe thead th {\n",
       "        text-align: right;\n",
       "    }\n",
       "</style>\n",
       "<table border=\"1\" class=\"dataframe\">\n",
       "  <thead>\n",
       "    <tr style=\"text-align: right;\">\n",
       "      <th></th>\n",
       "      <th>name</th>\n",
       "      <th>review</th>\n",
       "      <th>rating</th>\n",
       "      <th>sentiment</th>\n",
       "    </tr>\n",
       "  </thead>\n",
       "  <tbody>\n",
       "    <tr>\n",
       "      <th>26579</th>\n",
       "      <td>Nature's Lullabies Second Year Sticker Calendar</td>\n",
       "      <td>I only purchased a second-year calendar for my...</td>\n",
       "      <td>2</td>\n",
       "      <td>-1</td>\n",
       "    </tr>\n",
       "    <tr>\n",
       "      <th>26580</th>\n",
       "      <td>SoftPlay Giggle Jiggle Funbook, Happy Bear</td>\n",
       "      <td>This bear is absolutely adorable and I would g...</td>\n",
       "      <td>2</td>\n",
       "      <td>-1</td>\n",
       "    </tr>\n",
       "    <tr>\n",
       "      <th>26581</th>\n",
       "      <td>SoftPlay Cloth Book, Love</td>\n",
       "      <td>This book is boring. Nothing to stimulate my g...</td>\n",
       "      <td>1</td>\n",
       "      <td>-1</td>\n",
       "    </tr>\n",
       "    <tr>\n",
       "      <th>26582</th>\n",
       "      <td>Hunnt&amp;reg; Falling Flowers and Birds Kids Nurs...</td>\n",
       "      <td>The reason:Small sizeHard to apply on the wall...</td>\n",
       "      <td>1</td>\n",
       "      <td>-1</td>\n",
       "    </tr>\n",
       "    <tr>\n",
       "      <th>26583</th>\n",
       "      <td>Wall Decor Removable Decal Sticker - Colorful ...</td>\n",
       "      <td>Would not purchase again or recommend. The dec...</td>\n",
       "      <td>2</td>\n",
       "      <td>-1</td>\n",
       "    </tr>\n",
       "    <tr>\n",
       "      <th>...</th>\n",
       "      <td>...</td>\n",
       "      <td>...</td>\n",
       "      <td>...</td>\n",
       "      <td>...</td>\n",
       "    </tr>\n",
       "    <tr>\n",
       "      <th>53067</th>\n",
       "      <td>Samsung Baby Care Washer, Stainless Platinum, ...</td>\n",
       "      <td>My infant goes to a really crappy daycare, and...</td>\n",
       "      <td>1</td>\n",
       "      <td>-1</td>\n",
       "    </tr>\n",
       "    <tr>\n",
       "      <th>53068</th>\n",
       "      <td>Mud Pie Milestone Stickers, Boy</td>\n",
       "      <td>Pretty please open and inspect these stickers ...</td>\n",
       "      <td>1</td>\n",
       "      <td>-1</td>\n",
       "    </tr>\n",
       "    <tr>\n",
       "      <th>53069</th>\n",
       "      <td>Best BIB for Baby - Soft Bib (Pink-Elephant)</td>\n",
       "      <td>Great 5-Star Product but An Obvious knock-off ...</td>\n",
       "      <td>1</td>\n",
       "      <td>-1</td>\n",
       "    </tr>\n",
       "    <tr>\n",
       "      <th>53070</th>\n",
       "      <td>Bouncy&amp;reg; Inflatable Real Feel Hopping Cow</td>\n",
       "      <td>When I received the item my initial thought wa...</td>\n",
       "      <td>2</td>\n",
       "      <td>-1</td>\n",
       "    </tr>\n",
       "    <tr>\n",
       "      <th>53071</th>\n",
       "      <td>Maxboost iPhone 5S/5 Case - Protective Snap-on...</td>\n",
       "      <td>I got this case in the mail today, it came on ...</td>\n",
       "      <td>2</td>\n",
       "      <td>-1</td>\n",
       "    </tr>\n",
       "  </tbody>\n",
       "</table>\n",
       "<p>26493 rows × 4 columns</p>\n",
       "</div>"
      ],
      "text/plain": [
       "                                                    name  \\\n",
       "26579    Nature's Lullabies Second Year Sticker Calendar   \n",
       "26580         SoftPlay Giggle Jiggle Funbook, Happy Bear   \n",
       "26581                          SoftPlay Cloth Book, Love   \n",
       "26582  Hunnt&reg; Falling Flowers and Birds Kids Nurs...   \n",
       "26583  Wall Decor Removable Decal Sticker - Colorful ...   \n",
       "...                                                  ...   \n",
       "53067  Samsung Baby Care Washer, Stainless Platinum, ...   \n",
       "53068                    Mud Pie Milestone Stickers, Boy   \n",
       "53069       Best BIB for Baby - Soft Bib (Pink-Elephant)   \n",
       "53070       Bouncy&reg; Inflatable Real Feel Hopping Cow   \n",
       "53071  Maxboost iPhone 5S/5 Case - Protective Snap-on...   \n",
       "\n",
       "                                                  review  rating  sentiment  \n",
       "26579  I only purchased a second-year calendar for my...       2         -1  \n",
       "26580  This bear is absolutely adorable and I would g...       2         -1  \n",
       "26581  This book is boring. Nothing to stimulate my g...       1         -1  \n",
       "26582  The reason:Small sizeHard to apply on the wall...       1         -1  \n",
       "26583  Would not purchase again or recommend. The dec...       2         -1  \n",
       "...                                                  ...     ...        ...  \n",
       "53067  My infant goes to a really crappy daycare, and...       1         -1  \n",
       "53068  Pretty please open and inspect these stickers ...       1         -1  \n",
       "53069  Great 5-Star Product but An Obvious knock-off ...       1         -1  \n",
       "53070  When I received the item my initial thought wa...       2         -1  \n",
       "53071  I got this case in the mail today, it came on ...       2         -1  \n",
       "\n",
       "[26493 rows x 4 columns]"
      ]
     },
     "execution_count": 13,
     "metadata": {},
     "output_type": "execute_result"
    }
   ],
   "source": [
    "products[products['sentiment'] == -1]"
   ]
  },
  {
   "cell_type": "code",
   "execution_count": 16,
   "metadata": {},
   "outputs": [],
   "source": [
    "products = products.fillna({'review':''})"
   ]
  },
  {
   "cell_type": "code",
   "execution_count": 17,
   "metadata": {},
   "outputs": [],
   "source": [
    "def remove_punctuation(text):\n",
    "    import string\n",
    "    return text.translate(str.maketrans('', '', string.punctuation)) \n",
    "\n",
    "products['review_clean'] = products['review'].apply(remove_punctuation)"
   ]
  },
  {
   "cell_type": "code",
   "execution_count": 18,
   "metadata": {},
   "outputs": [],
   "source": [
    "import json\n",
    "f = open(f'{PATH}important_words.json')\n",
    "important_words = json.load(f)\n",
    "f.close()"
   ]
  },
  {
   "cell_type": "code",
   "execution_count": 21,
   "metadata": {},
   "outputs": [],
   "source": [
    "for word in important_words:\n",
    "    products[word] = products['review_clean'].apply(lambda s : s.split().count(word))"
   ]
  },
  {
   "cell_type": "code",
   "execution_count": 24,
   "metadata": {},
   "outputs": [],
   "source": [
    "def word_checker(num):\n",
    "    if num > 0: \n",
    "        return 1\n",
    "    return 0"
   ]
  },
  {
   "cell_type": "code",
   "execution_count": 25,
   "metadata": {},
   "outputs": [],
   "source": [
    "products['contains_perfect'] = products['perfect'].apply(word_checker)"
   ]
  },
  {
   "cell_type": "code",
   "execution_count": 27,
   "metadata": {},
   "outputs": [
    {
     "data": {
      "text/plain": [
       "2955"
      ]
     },
     "execution_count": 27,
     "metadata": {},
     "output_type": "execute_result"
    }
   ],
   "source": [
    "products['contains_perfect'].sum()"
   ]
  },
  {
   "cell_type": "markdown",
   "metadata": {},
   "source": [
    "### 2955 reviews contain the word perfect"
   ]
  },
  {
   "cell_type": "code",
   "execution_count": 30,
   "metadata": {},
   "outputs": [],
   "source": [
    "def get_numpy_data(df,features,label):\n",
    "    df['constant'] = 1\n",
    "    features = ['constant'] + features\n",
    "    features_frame = df[features]\n",
    "    features_matrix = features_frame.to_numpy()\n",
    "    label_series = df[label]\n",
    "    label_array = label_series.to_numpy()\n",
    "    return features_matrix,label_array"
   ]
  },
  {
   "cell_type": "code",
   "execution_count": 31,
   "metadata": {},
   "outputs": [],
   "source": [
    "features_matrix,label_array = get_numpy_data(products,important_words,'sentiment')"
   ]
  },
  {
   "cell_type": "code",
   "execution_count": 32,
   "metadata": {},
   "outputs": [
    {
     "data": {
      "text/plain": [
       "array([[1, 0, 0, ..., 0, 0, 0],\n",
       "       [1, 0, 0, ..., 0, 0, 0],\n",
       "       [1, 1, 0, ..., 0, 0, 0],\n",
       "       ...,\n",
       "       [1, 0, 0, ..., 0, 0, 0],\n",
       "       [1, 0, 1, ..., 0, 0, 0],\n",
       "       [1, 0, 0, ..., 0, 0, 0]], dtype=int64)"
      ]
     },
     "execution_count": 32,
     "metadata": {},
     "output_type": "execute_result"
    }
   ],
   "source": [
    "features_matrix"
   ]
  },
  {
   "cell_type": "code",
   "execution_count": 33,
   "metadata": {},
   "outputs": [
    {
     "data": {
      "text/plain": [
       "array([ 1,  1,  1, ..., -1, -1, -1], dtype=int64)"
      ]
     },
     "execution_count": 33,
     "metadata": {},
     "output_type": "execute_result"
    }
   ],
   "source": [
    "label_array"
   ]
  },
  {
   "cell_type": "code",
   "execution_count": 36,
   "metadata": {},
   "outputs": [
    {
     "data": {
      "text/plain": [
       "(53072, 194)"
      ]
     },
     "execution_count": 36,
     "metadata": {},
     "output_type": "execute_result"
    }
   ],
   "source": [
    "features_matrix.shape"
   ]
  },
  {
   "cell_type": "markdown",
   "metadata": {},
   "source": [
    "### There are 194 features in the features matrix"
   ]
  },
  {
   "cell_type": "markdown",
   "metadata": {},
   "source": [
    "### Number of features in the features matrix is equal to the number of features in the logistic regression model"
   ]
  },
  {
   "cell_type": "code",
   "execution_count": 43,
   "metadata": {},
   "outputs": [],
   "source": [
    "'''\n",
    "produces probablistic estimate for P(y_i = +1 | x_i, w).\n",
    "estimate ranges between 0 and 1.\n",
    "'''\n",
    "def predict_probability(feature_matrix, coefficients):\n",
    "    # Take dot product of feature_matrix and coefficients  \n",
    "    # YOUR CODE HERE\n",
    "    score = np.dot(feature_matrix, coefficients)\n",
    "    \n",
    "    # Compute P(y_i = +1 | x_i, w) using the link function\n",
    "    # YOUR CODE HERE\n",
    "    predictions = 1 / (1 + np.exp(-score))\n",
    "    \n",
    "    # return predictions\n",
    "    return predictions"
   ]
  },
  {
   "cell_type": "code",
   "execution_count": 44,
   "metadata": {},
   "outputs": [],
   "source": [
    "def feature_derivative(errors, feature):     \n",
    "    # Compute the dot product of errors and feature\n",
    "    derivative = np.dot(feature,errors)\n",
    "        # Return the derivative\n",
    "    return derivative"
   ]
  },
  {
   "cell_type": "code",
   "execution_count": 47,
   "metadata": {},
   "outputs": [],
   "source": [
    "def compute_log_likelihood(feature_matrix, sentiment, coefficients):\n",
    "    indicator = (sentiment==+1)\n",
    "    scores = np.dot(feature_matrix, coefficients)\n",
    "    lp = np.sum((indicator-1)*scores - np.log(1. + np.exp(-scores)))\n",
    "    return lp"
   ]
  },
  {
   "cell_type": "code",
   "execution_count": 49,
   "metadata": {},
   "outputs": [],
   "source": [
    "from math import sqrt\n",
    "def logistic_regression(feature_matrix, sentiment, initial_coefficients, step_size, max_iter):\n",
    "    coefficients = np.array(initial_coefficients) # make sure it's a numpy array\n",
    "    for itr in range(max_iter):\n",
    "        # Predict P(y_i = +1|x_1,w) using your predict_probability() function\n",
    "        # YOUR CODE HERE\n",
    "        predictions = predict_probability(features_matrix,coefficients)\n",
    "\n",
    "        # Compute indicator value for (y_i = +1)\n",
    "        indicator = (sentiment==+1)\n",
    "\n",
    "        # Compute the errors as indicator - predictions\n",
    "        errors = indicator - predictions\n",
    "\n",
    "        for j in range(len(coefficients)): # loop over each coefficient\n",
    "            # Recall that feature_matrix[:,j] is the feature column associated with coefficients[j]\n",
    "            # compute the derivative for coefficients[j]. Save it in a variable called derivative\n",
    "            # YOUR CODE HERE\n",
    "            derivative = feature_derivative(errors,feature_matrix[:,j])\n",
    "\n",
    "            # add the step size times the derivative to the current coefficient\n",
    "            # YOUR CODE HERE\n",
    "            coefficients[j] += step_size*derivative \n",
    "\n",
    "        # Checking whether log likelihood is increasing\n",
    "        if itr <= 15 or (itr <= 100 and itr % 10 == 0) or (itr <= 1000 and itr % 100 == 0) \\\n",
    "        or (itr <= 10000 and itr % 1000 == 0) or itr % 10000 == 0:\n",
    "            lp = compute_log_likelihood(feature_matrix, sentiment, coefficients)\n",
    "            print('iteration %*d: log likelihood of observed labels = %.8f' % \\\n",
    "                (int(np.ceil(np.log10(max_iter))), itr, lp))\n",
    "    return coefficients"
   ]
  },
  {
   "cell_type": "code",
   "execution_count": 52,
   "metadata": {},
   "outputs": [
    {
     "name": "stdout",
     "output_type": "stream",
     "text": [
      "iteration   0: log likelihood of observed labels = -36780.91768478\n",
      "iteration   1: log likelihood of observed labels = -36775.13434712\n",
      "iteration   2: log likelihood of observed labels = -36769.35713564\n",
      "iteration   3: log likelihood of observed labels = -36763.58603240\n",
      "iteration   4: log likelihood of observed labels = -36757.82101962\n",
      "iteration   5: log likelihood of observed labels = -36752.06207964\n",
      "iteration   6: log likelihood of observed labels = -36746.30919497\n",
      "iteration   7: log likelihood of observed labels = -36740.56234821\n",
      "iteration   8: log likelihood of observed labels = -36734.82152213\n",
      "iteration   9: log likelihood of observed labels = -36729.08669961\n",
      "iteration  10: log likelihood of observed labels = -36723.35786366\n",
      "iteration  11: log likelihood of observed labels = -36717.63499744\n",
      "iteration  12: log likelihood of observed labels = -36711.91808422\n",
      "iteration  13: log likelihood of observed labels = -36706.20710739\n",
      "iteration  14: log likelihood of observed labels = -36700.50205049\n",
      "iteration  15: log likelihood of observed labels = -36694.80289716\n",
      "iteration  20: log likelihood of observed labels = -36666.39512033\n",
      "iteration  30: log likelihood of observed labels = -36610.01327118\n",
      "iteration  40: log likelihood of observed labels = -36554.19728365\n",
      "iteration  50: log likelihood of observed labels = -36498.93316099\n",
      "iteration  60: log likelihood of observed labels = -36444.20783914\n",
      "iteration  70: log likelihood of observed labels = -36390.00909449\n",
      "iteration  80: log likelihood of observed labels = -36336.32546144\n",
      "iteration  90: log likelihood of observed labels = -36283.14615871\n",
      "iteration 100: log likelihood of observed labels = -36230.46102347\n",
      "iteration 200: log likelihood of observed labels = -35728.89418769\n",
      "iteration 300: log likelihood of observed labels = -35268.51212683\n"
     ]
    }
   ],
   "source": [
    "coefficients = logistic_regression(features_matrix,label_array,np.zeros(194),1e-7,301)"
   ]
  },
  {
   "cell_type": "code",
   "execution_count": 54,
   "metadata": {},
   "outputs": [],
   "source": [
    "def threshold(x):\n",
    "    if x > 0: \n",
    "        return 1\n",
    "    return -1"
   ]
  },
  {
   "cell_type": "code",
   "execution_count": 59,
   "metadata": {},
   "outputs": [],
   "source": [
    "predictions = np.dot(features_matrix,coefficients)"
   ]
  },
  {
   "cell_type": "code",
   "execution_count": 60,
   "metadata": {},
   "outputs": [
    {
     "data": {
      "text/plain": [
       "array([ 0.05104571, -0.02936473,  0.02411584, ..., -0.40986295,\n",
       "        0.01411436, -0.06755923])"
      ]
     },
     "execution_count": 60,
     "metadata": {},
     "output_type": "execute_result"
    }
   ],
   "source": [
    "predictions"
   ]
  },
  {
   "cell_type": "code",
   "execution_count": 72,
   "metadata": {},
   "outputs": [
    {
     "data": {
      "text/plain": [
       "25126"
      ]
     },
     "execution_count": 72,
     "metadata": {},
     "output_type": "execute_result"
    }
   ],
   "source": [
    "(predictions == 1).sum()"
   ]
  },
  {
   "cell_type": "markdown",
   "metadata": {},
   "source": [
    "### 25126 reviews were predicted to have positive sentiment"
   ]
  },
  {
   "cell_type": "code",
   "execution_count": 62,
   "metadata": {},
   "outputs": [],
   "source": [
    "for i in range(len(predictions)):\n",
    "    if(predictions[i]) > 0:\n",
    "        predictions[i] = 1\n",
    "    else:\n",
    "        predictions[i] = -1"
   ]
  },
  {
   "cell_type": "code",
   "execution_count": 63,
   "metadata": {},
   "outputs": [
    {
     "data": {
      "text/plain": [
       "array([ 1., -1.,  1., ..., -1.,  1., -1.])"
      ]
     },
     "execution_count": 63,
     "metadata": {},
     "output_type": "execute_result"
    }
   ],
   "source": [
    "predictions"
   ]
  },
  {
   "cell_type": "code",
   "execution_count": 65,
   "metadata": {},
   "outputs": [
    {
     "data": {
      "text/plain": [
       "53072"
      ]
     },
     "execution_count": 65,
     "metadata": {},
     "output_type": "execute_result"
    }
   ],
   "source": [
    "len(predictions)"
   ]
  },
  {
   "cell_type": "code",
   "execution_count": 66,
   "metadata": {},
   "outputs": [
    {
     "data": {
      "text/plain": [
       "0.7518653904130238"
      ]
     },
     "execution_count": 66,
     "metadata": {},
     "output_type": "execute_result"
    }
   ],
   "source": [
    "(predictions == label_array).sum() / len(predictions)"
   ]
  },
  {
   "cell_type": "markdown",
   "metadata": {},
   "source": [
    "### Accuracy of the model on the predictions made above is 0.75"
   ]
  },
  {
   "cell_type": "code",
   "execution_count": 67,
   "metadata": {},
   "outputs": [],
   "source": [
    "coefficients = list(coefficients[1:]) # exclude intercept\n",
    "word_coefficient_tuples = [(word, coefficient) for word, coefficient in zip(important_words, coefficients)]\n",
    "word_coefficient_tuples = sorted(word_coefficient_tuples, key=lambda x:x[1], reverse=True)"
   ]
  },
  {
   "cell_type": "code",
   "execution_count": 68,
   "metadata": {},
   "outputs": [
    {
     "data": {
      "text/plain": [
       "[('great', 0.0665460841704577),\n",
       " ('love', 0.06589076292212326),\n",
       " ('easy', 0.06479458680257838),\n",
       " ('little', 0.045435626308421365),\n",
       " ('loves', 0.04497640139490604),\n",
       " ('well', 0.030135001092107077),\n",
       " ('perfect', 0.029739937104968462),\n",
       " ('old', 0.020077541034775378),\n",
       " ('nice', 0.018408707995268992),\n",
       " ('daughter', 0.017703199905701694),\n",
       " ('soft', 0.01757027224560289),\n",
       " ('fits', 0.01688247107140872),\n",
       " ('happy', 0.01680529588976808),\n",
       " ('baby', 0.015565696580423507),\n",
       " ('recommend', 0.015408450108008665),\n",
       " ('also', 0.015216196422918844),\n",
       " ('best', 0.014991791565630264),\n",
       " ('comfortable', 0.0132539900815849),\n",
       " ('car', 0.012685935745813375),\n",
       " ('clean', 0.012018174433365525),\n",
       " ('son', 0.011944817713693955),\n",
       " ('bit', 0.011708248093123262),\n",
       " ('works', 0.011703160621987424),\n",
       " ('size', 0.010715966516270301),\n",
       " ('stroller', 0.009909164635972736),\n",
       " ('room', 0.009783241021568061),\n",
       " ('price', 0.009572733543590181),\n",
       " ('play', 0.00917842898398431),\n",
       " ('easily', 0.009032818138954407),\n",
       " ('kids', 0.008582843004346528),\n",
       " ('still', 0.008264666945374463),\n",
       " ('lot', 0.007999389349248327),\n",
       " ('around', 0.007508918097314341),\n",
       " ('need', 0.00717190727002709),\n",
       " ('take', 0.0067101233146641725),\n",
       " ('keep', 0.006437668081870187),\n",
       " ('crib', 0.006002799788638706),\n",
       " ('without', 0.005923536113220277),\n",
       " ('year', 0.0057332000284878925),\n",
       " ('set', 0.005674789908056569),\n",
       " ('cute', 0.00553751236405903),\n",
       " ('use', 0.005017438816565411),\n",
       " ('big', 0.004606618761970606),\n",
       " ('diaper', 0.004279382890354769),\n",
       " ('wish', 0.00402037650809975),\n",
       " ('seat', 0.00398353363941361),\n",
       " ('though', 0.0033448995950862924),\n",
       " ('every', 0.003081478639854043),\n",
       " ('enough', 0.0030678550129901094),\n",
       " ('able', 0.0029803067506612626),\n",
       " ('bag', 0.0028617875161052087),\n",
       " ('babies', 0.00285818985134274),\n",
       " ('seems', 0.002815332188646534),\n",
       " ('night', 0.0028082590666831486),\n",
       " ('good', 0.002768203906397681),\n",
       " ('many', 0.002646610638512129),\n",
       " ('makes', 0.0023134923740490217),\n",
       " ('pretty', 0.0022363904560238454),\n",
       " ('long', 0.0021872401621619436),\n",
       " ('think', 0.0017456314732199937),\n",
       " ('toy', 0.0017230705102314389),\n",
       " ('since', 0.0015547861236921195),\n",
       " ('looking', 0.0015347116392846498),\n",
       " ('us', 0.0015136828514065383),\n",
       " ('purchase', 0.0012225783235106362),\n",
       " ('put', 0.0008992390814154679),\n",
       " ('cover', 0.0008292511599959564),\n",
       " ('used', 0.0006101288089752651),\n",
       " ('found', 0.0004120917130065564),\n",
       " ('really', 0.0002725920624677609),\n",
       " ('won', 0.00011988500346780872),\n",
       " ('go', 9.916668274814307e-05),\n",
       " ('looks', 1.3669928550230982e-05),\n",
       " ('high', -0.00018648923566776294),\n",
       " ('day', -0.0001885722805001113),\n",
       " ('bottles', -0.0003356660003498164),\n",
       " ('chair', -0.0005159604846262283),\n",
       " ('using', -0.0006573503620923423),\n",
       " ('side', -0.0008613904437686893),\n",
       " ('worth', -0.0009762196756223372),\n",
       " ('almost', -0.0011449351626316186),\n",
       " ('hold', -0.0012476158571719626),\n",
       " ('months', -0.0013621951573487417),\n",
       " ('look', -0.0016457514473845493),\n",
       " ('sure', -0.0016689531424132905),\n",
       " ('find', -0.001941995510954018),\n",
       " ('amazon', -0.001973209371896165),\n",
       " ('month', -0.002203176605623071),\n",
       " ('getting', -0.002220344023969567),\n",
       " ('come', -0.002478056986088657),\n",
       " ('second', -0.003018666010667183),\n",
       " ('head', -0.0030257887493927997),\n",
       " ('small', -0.0030534547593308713),\n",
       " ('place', -0.0033188773175081994),\n",
       " ('together', -0.0034133092891886524),\n",
       " ('want', -0.0034808852314084323),\n",
       " ('like', -0.003504884133335206),\n",
       " ('give', -0.0035098451575682472),\n",
       " ('say', -0.0037369438587485197),\n",
       " ('wanted', -0.0038141640936843104),\n",
       " ('know', -0.004074970100351704),\n",
       " ('took', -0.00426644386401471),\n",
       " ('much', -0.00439700067450943),\n",
       " ('see', -0.004659737406888565),\n",
       " ('purchased', -0.0047899094286734025),\n",
       " ('fit', -0.004795795278093019),\n",
       " ('gate', -0.005012917306197128),\n",
       " ('bottle', -0.00504082163624915),\n",
       " ('different', -0.005041275079058816),\n",
       " ('came', -0.00510115608429506),\n",
       " ('however', -0.005102879784877111),\n",
       " ('make', -0.0052058842106071585),\n",
       " ('new', -0.005287862195972151),\n",
       " ('buying', -0.0054430034643825976),\n",
       " ('last', -0.005470161541392435),\n",
       " ('actually', -0.005605733475251416),\n",
       " ('less', -0.005654987222257695),\n",
       " ('child', -0.006087140302347554),\n",
       " ('started', -0.006262831503162304),\n",
       " ('instead', -0.006300126718179463),\n",
       " ('water', -0.006300542962225544),\n",
       " ('maybe', -0.0064009893446270215),\n",
       " ('problem', -0.006409589155003782),\n",
       " ('right', -0.006413688585050476),\n",
       " ('tub', -0.006475876873018089),\n",
       " ('said', -0.006762897175112026),\n",
       " ('went', -0.006870502394402382),\n",
       " ('quality', -0.006910108112146037),\n",
       " ('pump', -0.006952869149061942),\n",
       " ('top', -0.00700791911646568),\n",
       " ('part', -0.007041719908427805),\n",
       " ('ordered', -0.0070757309816473464),\n",
       " ('either', -0.00709205934413514),\n",
       " ('bottom', -0.007220988012088569),\n",
       " ('anything', -0.007224199425910094),\n",
       " ('made', -0.007353459369094525),\n",
       " ('weeks', -0.007372630597764411),\n",
       " ('design', -0.00773228781737099),\n",
       " ('times', -0.007764187808314247),\n",
       " ('picture', -0.008101502952676016),\n",
       " ('away', -0.008317829807696091),\n",
       " ('one', -0.008502046745757372),\n",
       " ('milk', -0.008935728615993477),\n",
       " ('stay', -0.009066533373590218),\n",
       " ('open', -0.009120491910748275),\n",
       " ('cup', -0.009259144043189976),\n",
       " ('worked', -0.009315208191956718),\n",
       " ('trying', -0.009874247980135878),\n",
       " ('completely', -0.010006213059178752),\n",
       " ('got', -0.010147655511657534),\n",
       " ('difficult', -0.010219204790778673),\n",
       " ('piece', -0.010282634317735408),\n",
       " ('two', -0.010576801537792878),\n",
       " ('box', -0.010669132724912933),\n",
       " ('going', -0.010770935491004765),\n",
       " ('try', -0.010918793208792996),\n",
       " ('another', -0.010950912169649826),\n",
       " ('unit', -0.0115230475554972),\n",
       " ('working', -0.011895059489782873),\n",
       " ('idea', -0.012101030310887904),\n",
       " ('bought', -0.012170641997242547),\n",
       " ('company', -0.012506394670958822),\n",
       " ('received', -0.01260518995366231),\n",
       " ('bad', -0.012754571329579798),\n",
       " ('something', -0.012808838024750812),\n",
       " ('never', -0.012969046546319292),\n",
       " ('first', -0.013213475301677043),\n",
       " ('hard', -0.013756676731261401),\n",
       " ('thing', -0.013868727265297583),\n",
       " ('cheap', -0.014709833465080665),\n",
       " ('reviews', -0.014866319449976982),\n",
       " ('plastic', -0.01497704490358794),\n",
       " ('better', -0.01504065897704339),\n",
       " ('broke', -0.01553769895565389),\n",
       " ('returned', -0.016001798500102516),\n",
       " ('item', -0.01713786701085479),\n",
       " ('buy', -0.01773754399721805),\n",
       " ('time', -0.018246193486087033),\n",
       " ('way', -0.018359460662945686),\n",
       " ('tried', -0.018702371424325834),\n",
       " ('could', -0.01984625666077721),\n",
       " ('thought', -0.021394348543682485),\n",
       " ('waste', -0.02404274807115496),\n",
       " ('monitor', -0.024482100545891724),\n",
       " ('return', -0.026592778462247283),\n",
       " ('back', -0.027742697230661334),\n",
       " ('get', -0.028711552980192574),\n",
       " ('disappointed', -0.028978976142317068),\n",
       " ('even', -0.030051249236035804),\n",
       " ('work', -0.03306951529475273),\n",
       " ('money', -0.038982037286487116),\n",
       " ('product', -0.041511033392108904),\n",
       " ('would', -0.05386014844520314)]"
      ]
     },
     "execution_count": 68,
     "metadata": {},
     "output_type": "execute_result"
    }
   ],
   "source": [
    "word_coefficient_tuples"
   ]
  },
  {
   "cell_type": "code",
   "execution_count": 69,
   "metadata": {},
   "outputs": [],
   "source": [
    "word_coefficient_tuples = sorted(word_coefficient_tuples, key=lambda x:x[1], reverse=False)"
   ]
  },
  {
   "cell_type": "code",
   "execution_count": 70,
   "metadata": {},
   "outputs": [
    {
     "data": {
      "text/plain": [
       "[('would', -0.05386014844520314),\n",
       " ('product', -0.041511033392108904),\n",
       " ('money', -0.038982037286487116),\n",
       " ('work', -0.03306951529475273),\n",
       " ('even', -0.030051249236035804),\n",
       " ('disappointed', -0.028978976142317068),\n",
       " ('get', -0.028711552980192574),\n",
       " ('back', -0.027742697230661334),\n",
       " ('return', -0.026592778462247283),\n",
       " ('monitor', -0.024482100545891724),\n",
       " ('waste', -0.02404274807115496),\n",
       " ('thought', -0.021394348543682485),\n",
       " ('could', -0.01984625666077721),\n",
       " ('tried', -0.018702371424325834),\n",
       " ('way', -0.018359460662945686),\n",
       " ('time', -0.018246193486087033),\n",
       " ('buy', -0.01773754399721805),\n",
       " ('item', -0.01713786701085479),\n",
       " ('returned', -0.016001798500102516),\n",
       " ('broke', -0.01553769895565389),\n",
       " ('better', -0.01504065897704339),\n",
       " ('plastic', -0.01497704490358794),\n",
       " ('reviews', -0.014866319449976982),\n",
       " ('cheap', -0.014709833465080665),\n",
       " ('thing', -0.013868727265297583),\n",
       " ('hard', -0.013756676731261401),\n",
       " ('first', -0.013213475301677043),\n",
       " ('never', -0.012969046546319292),\n",
       " ('something', -0.012808838024750812),\n",
       " ('bad', -0.012754571329579798),\n",
       " ('received', -0.01260518995366231),\n",
       " ('company', -0.012506394670958822),\n",
       " ('bought', -0.012170641997242547),\n",
       " ('idea', -0.012101030310887904),\n",
       " ('working', -0.011895059489782873),\n",
       " ('unit', -0.0115230475554972),\n",
       " ('another', -0.010950912169649826),\n",
       " ('try', -0.010918793208792996),\n",
       " ('going', -0.010770935491004765),\n",
       " ('box', -0.010669132724912933),\n",
       " ('two', -0.010576801537792878),\n",
       " ('piece', -0.010282634317735408),\n",
       " ('difficult', -0.010219204790778673),\n",
       " ('got', -0.010147655511657534),\n",
       " ('completely', -0.010006213059178752),\n",
       " ('trying', -0.009874247980135878),\n",
       " ('worked', -0.009315208191956718),\n",
       " ('cup', -0.009259144043189976),\n",
       " ('open', -0.009120491910748275),\n",
       " ('stay', -0.009066533373590218),\n",
       " ('milk', -0.008935728615993477),\n",
       " ('one', -0.008502046745757372),\n",
       " ('away', -0.008317829807696091),\n",
       " ('picture', -0.008101502952676016),\n",
       " ('times', -0.007764187808314247),\n",
       " ('design', -0.00773228781737099),\n",
       " ('weeks', -0.007372630597764411),\n",
       " ('made', -0.007353459369094525),\n",
       " ('anything', -0.007224199425910094),\n",
       " ('bottom', -0.007220988012088569),\n",
       " ('either', -0.00709205934413514),\n",
       " ('ordered', -0.0070757309816473464),\n",
       " ('part', -0.007041719908427805),\n",
       " ('top', -0.00700791911646568),\n",
       " ('pump', -0.006952869149061942),\n",
       " ('quality', -0.006910108112146037),\n",
       " ('went', -0.006870502394402382),\n",
       " ('said', -0.006762897175112026),\n",
       " ('tub', -0.006475876873018089),\n",
       " ('right', -0.006413688585050476),\n",
       " ('problem', -0.006409589155003782),\n",
       " ('maybe', -0.0064009893446270215),\n",
       " ('water', -0.006300542962225544),\n",
       " ('instead', -0.006300126718179463),\n",
       " ('started', -0.006262831503162304),\n",
       " ('child', -0.006087140302347554),\n",
       " ('less', -0.005654987222257695),\n",
       " ('actually', -0.005605733475251416),\n",
       " ('last', -0.005470161541392435),\n",
       " ('buying', -0.0054430034643825976),\n",
       " ('new', -0.005287862195972151),\n",
       " ('make', -0.0052058842106071585),\n",
       " ('however', -0.005102879784877111),\n",
       " ('came', -0.00510115608429506),\n",
       " ('different', -0.005041275079058816),\n",
       " ('bottle', -0.00504082163624915),\n",
       " ('gate', -0.005012917306197128),\n",
       " ('fit', -0.004795795278093019),\n",
       " ('purchased', -0.0047899094286734025),\n",
       " ('see', -0.004659737406888565),\n",
       " ('much', -0.00439700067450943),\n",
       " ('took', -0.00426644386401471),\n",
       " ('know', -0.004074970100351704),\n",
       " ('wanted', -0.0038141640936843104),\n",
       " ('say', -0.0037369438587485197),\n",
       " ('give', -0.0035098451575682472),\n",
       " ('like', -0.003504884133335206),\n",
       " ('want', -0.0034808852314084323),\n",
       " ('together', -0.0034133092891886524),\n",
       " ('place', -0.0033188773175081994),\n",
       " ('small', -0.0030534547593308713),\n",
       " ('head', -0.0030257887493927997),\n",
       " ('second', -0.003018666010667183),\n",
       " ('come', -0.002478056986088657),\n",
       " ('getting', -0.002220344023969567),\n",
       " ('month', -0.002203176605623071),\n",
       " ('amazon', -0.001973209371896165),\n",
       " ('find', -0.001941995510954018),\n",
       " ('sure', -0.0016689531424132905),\n",
       " ('look', -0.0016457514473845493),\n",
       " ('months', -0.0013621951573487417),\n",
       " ('hold', -0.0012476158571719626),\n",
       " ('almost', -0.0011449351626316186),\n",
       " ('worth', -0.0009762196756223372),\n",
       " ('side', -0.0008613904437686893),\n",
       " ('using', -0.0006573503620923423),\n",
       " ('chair', -0.0005159604846262283),\n",
       " ('bottles', -0.0003356660003498164),\n",
       " ('day', -0.0001885722805001113),\n",
       " ('high', -0.00018648923566776294),\n",
       " ('looks', 1.3669928550230982e-05),\n",
       " ('go', 9.916668274814307e-05),\n",
       " ('won', 0.00011988500346780872),\n",
       " ('really', 0.0002725920624677609),\n",
       " ('found', 0.0004120917130065564),\n",
       " ('used', 0.0006101288089752651),\n",
       " ('cover', 0.0008292511599959564),\n",
       " ('put', 0.0008992390814154679),\n",
       " ('purchase', 0.0012225783235106362),\n",
       " ('us', 0.0015136828514065383),\n",
       " ('looking', 0.0015347116392846498),\n",
       " ('since', 0.0015547861236921195),\n",
       " ('toy', 0.0017230705102314389),\n",
       " ('think', 0.0017456314732199937),\n",
       " ('long', 0.0021872401621619436),\n",
       " ('pretty', 0.0022363904560238454),\n",
       " ('makes', 0.0023134923740490217),\n",
       " ('many', 0.002646610638512129),\n",
       " ('good', 0.002768203906397681),\n",
       " ('night', 0.0028082590666831486),\n",
       " ('seems', 0.002815332188646534),\n",
       " ('babies', 0.00285818985134274),\n",
       " ('bag', 0.0028617875161052087),\n",
       " ('able', 0.0029803067506612626),\n",
       " ('enough', 0.0030678550129901094),\n",
       " ('every', 0.003081478639854043),\n",
       " ('though', 0.0033448995950862924),\n",
       " ('seat', 0.00398353363941361),\n",
       " ('wish', 0.00402037650809975),\n",
       " ('diaper', 0.004279382890354769),\n",
       " ('big', 0.004606618761970606),\n",
       " ('use', 0.005017438816565411),\n",
       " ('cute', 0.00553751236405903),\n",
       " ('set', 0.005674789908056569),\n",
       " ('year', 0.0057332000284878925),\n",
       " ('without', 0.005923536113220277),\n",
       " ('crib', 0.006002799788638706),\n",
       " ('keep', 0.006437668081870187),\n",
       " ('take', 0.0067101233146641725),\n",
       " ('need', 0.00717190727002709),\n",
       " ('around', 0.007508918097314341),\n",
       " ('lot', 0.007999389349248327),\n",
       " ('still', 0.008264666945374463),\n",
       " ('kids', 0.008582843004346528),\n",
       " ('easily', 0.009032818138954407),\n",
       " ('play', 0.00917842898398431),\n",
       " ('price', 0.009572733543590181),\n",
       " ('room', 0.009783241021568061),\n",
       " ('stroller', 0.009909164635972736),\n",
       " ('size', 0.010715966516270301),\n",
       " ('works', 0.011703160621987424),\n",
       " ('bit', 0.011708248093123262),\n",
       " ('son', 0.011944817713693955),\n",
       " ('clean', 0.012018174433365525),\n",
       " ('car', 0.012685935745813375),\n",
       " ('comfortable', 0.0132539900815849),\n",
       " ('best', 0.014991791565630264),\n",
       " ('also', 0.015216196422918844),\n",
       " ('recommend', 0.015408450108008665),\n",
       " ('baby', 0.015565696580423507),\n",
       " ('happy', 0.01680529588976808),\n",
       " ('fits', 0.01688247107140872),\n",
       " ('soft', 0.01757027224560289),\n",
       " ('daughter', 0.017703199905701694),\n",
       " ('nice', 0.018408707995268992),\n",
       " ('old', 0.020077541034775378),\n",
       " ('perfect', 0.029739937104968462),\n",
       " ('well', 0.030135001092107077),\n",
       " ('loves', 0.04497640139490604),\n",
       " ('little', 0.045435626308421365),\n",
       " ('easy', 0.06479458680257838),\n",
       " ('love', 0.06589076292212326),\n",
       " ('great', 0.0665460841704577)]"
      ]
     },
     "execution_count": 70,
     "metadata": {},
     "output_type": "execute_result"
    }
   ],
   "source": [
    "word_coefficient_tuples"
   ]
  },
  {
   "cell_type": "code",
   "execution_count": null,
   "metadata": {},
   "outputs": [],
   "source": []
  }
 ],
 "metadata": {
  "kernelspec": {
   "display_name": "Python 3",
   "language": "python",
   "name": "python3"
  },
  "language_info": {
   "codemirror_mode": {
    "name": "ipython",
    "version": 3
   },
   "file_extension": ".py",
   "mimetype": "text/x-python",
   "name": "python",
   "nbconvert_exporter": "python",
   "pygments_lexer": "ipython3",
   "version": "3.7.4"
  }
 },
 "nbformat": 4,
 "nbformat_minor": 4
}
